{
 "cells": [
  {
   "cell_type": "code",
   "execution_count": 11,
   "metadata": {},
   "outputs": [],
   "source": [
    "import pandas as pd \n",
    "import numpy as np"
   ]
  },
  {
   "cell_type": "code",
   "execution_count": 12,
   "metadata": {},
   "outputs": [],
   "source": [
    "def reformat_data(n, r):\n",
    "    folder_name = \"../kde_ebm/datasets/data/synthetic\"\n",
    "    comb_str = f\"{int(n*r)}|{n}\"\n",
    "    df = pd.read_csv(f\"{folder_name}/{comb_str}.csv\")\n",
    "    n_biomarkers = len(df.biomarker.unique())\n",
    "    diseased_dic = dict(zip(df.participant, df.diseased))\n",
    "    dff = df.pivot(index=['participant'], columns='biomarker', values=['measurement'])\n",
    "    # Define the desired order of the columns\n",
    "    desired_order = ['HIP-FCI (1)', 'PCC-FCI (2)', 'HIP-GMI (3)', 'FUS-GMI (4)', 'FUS-FCI (5)']\n",
    "    # Reorder the DataFrame columns\n",
    "    # level=1 to match the multi-index column level if using a pivot\n",
    "    dff = dff.reindex(columns=desired_order, level=1) \n",
    "    dff['diseased'] = [int(diseased_dic[x]) for x in dff.index]\n",
    "    new_file_dir = f\"{folder_name}/{comb_str}_reformatted.csv\"\n",
    "    dff.to_csv(new_file_dir, index=False, header=None)    \n",
    "    # Prepend the custom line to the file\n",
    "    with open(new_file_dir, \"r+\") as file:\n",
    "        content = file.read()  # Read the existing content\n",
    "        file.seek(0, 0)  # Move the cursor to the beginning of the file\n",
    "        file.write(f\"{n},{n_biomarkers},CN,AD\\n\" + content)  # Write the new line and then the original content"
   ]
  },
  {
   "cell_type": "code",
   "execution_count": 13,
   "metadata": {},
   "outputs": [],
   "source": [
    "def reformat_chen_data(n):\n",
    "    cols_to_load = [\"participant\", \"biomarker\", \"measurement\", 'diseased']\n",
    "    folder_name = \"../kde_ebm/datasets/data/chen_data\"\n",
    "    comb_str = f\"{int(n)}\"\n",
    "    df = pd.read_csv(f\"{folder_name}/{comb_str}.csv\", usecols=cols_to_load)\n",
    "    n_biomarkers = len(df.biomarker.unique())\n",
    "    diseased_dic = dict(zip(df.participant, df.diseased))\n",
    "    dff = df.pivot(index=['participant'], columns='biomarker', values=['measurement'])\n",
    "    desired_order = ['FCI(HIP)-1', 'FCI(PCC)-2', 'GMI(HIP)-3', 'GMI(FUS)-4', 'FCI(Fusi)-5']\n",
    "    # Reorder the DataFrame columns\n",
    "    # level=1 to match the multi-index column level if using a pivot\n",
    "    dff = dff.reindex(columns=desired_order, level=1)  \n",
    "    dff['diseased'] = [int(diseased_dic[x]) for x in dff.index]\n",
    "    new_file_dir = f\"{folder_name}/{comb_str}_reformatted.csv\"\n",
    "    dff.to_csv(new_file_dir, index=False, header=None)    \n",
    "    # Prepend the custom line to the file\n",
    "    with open(new_file_dir, \"r+\") as file:\n",
    "        content = file.read()  # Read the existing content\n",
    "        file.seek(0, 0)  # Move the cursor to the beginning of the file\n",
    "        file.write(f\"{n},{n_biomarkers},CN,AD\\n\" + content)  # Write the new line and then the original content"
   ]
  },
  {
   "cell_type": "code",
   "execution_count": 14,
   "metadata": {},
   "outputs": [],
   "source": [
    "ns = [50, 200, 500]\n",
    "rs = [0.1, 0.25, 0.5]\n",
    "for n in ns:\n",
    "    for r in rs:\n",
    "        reformat_data(n, r)"
   ]
  },
  {
   "cell_type": "code",
   "execution_count": 15,
   "metadata": {},
   "outputs": [],
   "source": [
    "for n in [144, 500]:\n",
    "    reformat_chen_data(n)"
   ]
  }
 ],
 "metadata": {
  "kernelspec": {
   "display_name": "bayes",
   "language": "python",
   "name": "python3"
  },
  "language_info": {
   "codemirror_mode": {
    "name": "ipython",
    "version": 3
   },
   "file_extension": ".py",
   "mimetype": "text/x-python",
   "name": "python",
   "nbconvert_exporter": "python",
   "pygments_lexer": "ipython3",
   "version": "3.8.19"
  }
 },
 "nbformat": 4,
 "nbformat_minor": 2
}
