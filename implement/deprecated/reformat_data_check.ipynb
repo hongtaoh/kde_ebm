{
 "cells": [
  {
   "cell_type": "markdown",
   "metadata": {},
   "source": [
    "In this notebook, I check whether reformat data ipynb really works. "
   ]
  },
  {
   "cell_type": "code",
   "execution_count": 23,
   "metadata": {},
   "outputs": [],
   "source": [
    "import pandas as pd \n",
    "import numpy as np"
   ]
  },
  {
   "cell_type": "code",
   "execution_count": 24,
   "metadata": {},
   "outputs": [
    {
     "data": {
      "text/plain": [
       "'5|50'"
      ]
     },
     "execution_count": 24,
     "metadata": {},
     "output_type": "execute_result"
    }
   ],
   "source": [
    "# folder_name = \"../kde_ebm/datasets/data/synthetic\"\n",
    "# comb_str = f\"{int(50*0.1)}|{50}\"\n",
    "# comb_str"
   ]
  },
  {
   "cell_type": "code",
   "execution_count": 30,
   "metadata": {},
   "outputs": [
    {
     "data": {
      "text/plain": [
       "'144'"
      ]
     },
     "execution_count": 30,
     "metadata": {},
     "output_type": "execute_result"
    }
   ],
   "source": [
    "folder_name = \"../kde_ebm/datasets/data/chen_data\"\n",
    "comb_str = f\"{int(144)}\"\n",
    "comb_str"
   ]
  },
  {
   "cell_type": "code",
   "execution_count": 31,
   "metadata": {},
   "outputs": [],
   "source": [
    "df = pd.read_csv(f\"{folder_name}/{comb_str}.csv\")\n",
    "n_biomarkers = len(df.biomarker.unique())\n",
    "diseased_dic = dict(zip(df.participant, df.diseased))"
   ]
  },
  {
   "cell_type": "code",
   "execution_count": 32,
   "metadata": {},
   "outputs": [
    {
     "data": {
      "text/html": [
       "<div>\n",
       "<style scoped>\n",
       "    .dataframe tbody tr th:only-of-type {\n",
       "        vertical-align: middle;\n",
       "    }\n",
       "\n",
       "    .dataframe tbody tr th {\n",
       "        vertical-align: top;\n",
       "    }\n",
       "\n",
       "    .dataframe thead th {\n",
       "        text-align: right;\n",
       "    }\n",
       "</style>\n",
       "<table border=\"1\" class=\"dataframe\">\n",
       "  <thead>\n",
       "    <tr style=\"text-align: right;\">\n",
       "      <th></th>\n",
       "      <th>participant</th>\n",
       "      <th>diseased</th>\n",
       "      <th>biomarker</th>\n",
       "      <th>measurement</th>\n",
       "    </tr>\n",
       "  </thead>\n",
       "  <tbody>\n",
       "    <tr>\n",
       "      <th>0</th>\n",
       "      <td>0</td>\n",
       "      <td>0</td>\n",
       "      <td>FCI(HIP)-1</td>\n",
       "      <td>-2.544567</td>\n",
       "    </tr>\n",
       "    <tr>\n",
       "      <th>1</th>\n",
       "      <td>1</td>\n",
       "      <td>0</td>\n",
       "      <td>FCI(HIP)-1</td>\n",
       "      <td>-1.603212</td>\n",
       "    </tr>\n",
       "    <tr>\n",
       "      <th>2</th>\n",
       "      <td>2</td>\n",
       "      <td>0</td>\n",
       "      <td>FCI(HIP)-1</td>\n",
       "      <td>-4.716009</td>\n",
       "    </tr>\n",
       "    <tr>\n",
       "      <th>3</th>\n",
       "      <td>3</td>\n",
       "      <td>0</td>\n",
       "      <td>FCI(HIP)-1</td>\n",
       "      <td>-4.232625</td>\n",
       "    </tr>\n",
       "    <tr>\n",
       "      <th>4</th>\n",
       "      <td>4</td>\n",
       "      <td>0</td>\n",
       "      <td>FCI(HIP)-1</td>\n",
       "      <td>3.628361</td>\n",
       "    </tr>\n",
       "  </tbody>\n",
       "</table>\n",
       "</div>"
      ],
      "text/plain": [
       "   participant  diseased   biomarker  measurement\n",
       "0            0         0  FCI(HIP)-1    -2.544567\n",
       "1            1         0  FCI(HIP)-1    -1.603212\n",
       "2            2         0  FCI(HIP)-1    -4.716009\n",
       "3            3         0  FCI(HIP)-1    -4.232625\n",
       "4            4         0  FCI(HIP)-1     3.628361"
      ]
     },
     "execution_count": 32,
     "metadata": {},
     "output_type": "execute_result"
    }
   ],
   "source": [
    "df.head()"
   ]
  },
  {
   "cell_type": "code",
   "execution_count": 27,
   "metadata": {},
   "outputs": [],
   "source": [
    "# n_biomarkers, diseased_dic"
   ]
  },
  {
   "cell_type": "code",
   "execution_count": 34,
   "metadata": {},
   "outputs": [
    {
     "data": {
      "text/html": [
       "<div>\n",
       "<style scoped>\n",
       "    .dataframe tbody tr th:only-of-type {\n",
       "        vertical-align: middle;\n",
       "    }\n",
       "\n",
       "    .dataframe tbody tr th {\n",
       "        vertical-align: top;\n",
       "    }\n",
       "\n",
       "    .dataframe thead tr th {\n",
       "        text-align: left;\n",
       "    }\n",
       "\n",
       "    .dataframe thead tr:last-of-type th {\n",
       "        text-align: right;\n",
       "    }\n",
       "</style>\n",
       "<table border=\"1\" class=\"dataframe\">\n",
       "  <thead>\n",
       "    <tr>\n",
       "      <th></th>\n",
       "      <th colspan=\"5\" halign=\"left\">measurement</th>\n",
       "      <th>diseased</th>\n",
       "    </tr>\n",
       "    <tr>\n",
       "      <th>biomarker</th>\n",
       "      <th>FCI(HIP)-1</th>\n",
       "      <th>FCI(PCC)-2</th>\n",
       "      <th>GMI(HIP)-3</th>\n",
       "      <th>GMI(FUS)-4</th>\n",
       "      <th>FCI(Fusi)-5</th>\n",
       "      <th></th>\n",
       "    </tr>\n",
       "    <tr>\n",
       "      <th>participant</th>\n",
       "      <th></th>\n",
       "      <th></th>\n",
       "      <th></th>\n",
       "      <th></th>\n",
       "      <th></th>\n",
       "      <th></th>\n",
       "    </tr>\n",
       "  </thead>\n",
       "  <tbody>\n",
       "    <tr>\n",
       "      <th>0</th>\n",
       "      <td>-2.544567</td>\n",
       "      <td>10.366552</td>\n",
       "      <td>0.370580</td>\n",
       "      <td>0.493363</td>\n",
       "      <td>-5.549706</td>\n",
       "      <td>1</td>\n",
       "    </tr>\n",
       "    <tr>\n",
       "      <th>1</th>\n",
       "      <td>-1.603212</td>\n",
       "      <td>2.926323</td>\n",
       "      <td>0.498440</td>\n",
       "      <td>0.581211</td>\n",
       "      <td>-4.185865</td>\n",
       "      <td>1</td>\n",
       "    </tr>\n",
       "    <tr>\n",
       "      <th>2</th>\n",
       "      <td>-4.716009</td>\n",
       "      <td>7.100353</td>\n",
       "      <td>0.492732</td>\n",
       "      <td>0.540190</td>\n",
       "      <td>-11.288656</td>\n",
       "      <td>1</td>\n",
       "    </tr>\n",
       "    <tr>\n",
       "      <th>3</th>\n",
       "      <td>-4.232625</td>\n",
       "      <td>5.970476</td>\n",
       "      <td>0.489120</td>\n",
       "      <td>0.547796</td>\n",
       "      <td>-12.353966</td>\n",
       "      <td>1</td>\n",
       "    </tr>\n",
       "    <tr>\n",
       "      <th>4</th>\n",
       "      <td>3.628361</td>\n",
       "      <td>7.808309</td>\n",
       "      <td>0.507251</td>\n",
       "      <td>0.555537</td>\n",
       "      <td>-10.554712</td>\n",
       "      <td>1</td>\n",
       "    </tr>\n",
       "  </tbody>\n",
       "</table>\n",
       "</div>"
      ],
      "text/plain": [
       "            measurement                                              diseased\n",
       "biomarker    FCI(HIP)-1 FCI(PCC)-2 GMI(HIP)-3 GMI(FUS)-4 FCI(Fusi)-5         \n",
       "participant                                                                  \n",
       "0             -2.544567  10.366552   0.370580   0.493363   -5.549706        1\n",
       "1             -1.603212   2.926323   0.498440   0.581211   -4.185865        1\n",
       "2             -4.716009   7.100353   0.492732   0.540190  -11.288656        1\n",
       "3             -4.232625   5.970476   0.489120   0.547796  -12.353966        1\n",
       "4              3.628361   7.808309   0.507251   0.555537  -10.554712        1"
      ]
     },
     "execution_count": 34,
     "metadata": {},
     "output_type": "execute_result"
    }
   ],
   "source": [
    "dff = df.pivot(index=['participant'], columns='biomarker', values=['measurement'])\n",
    "# # Define the desired order of the columns\n",
    "# desired_order = ['HIP-FCI (1)', 'PCC-FCI (2)', 'HIP-GMI (3)', 'FUS-GMI (4)', 'FUS-FCI (5)']\n",
    "desired_order = ['FCI(HIP)-1', 'FCI(PCC)-2', 'GMI(HIP)-3', 'GMI(FUS)-4', 'FCI(Fusi)-5']\n",
    "# # Reorder the DataFrame columns\n",
    "dff = dff.reindex(columns=desired_order, level=1)  \n",
    "# level=1 to match the multi-index column level if using a pivot\n",
    "dff['diseased'] = [int(not diseased_dic[x]) for x in dff.index]\n",
    "dff.head()"
   ]
  },
  {
   "cell_type": "code",
   "execution_count": 29,
   "metadata": {},
   "outputs": [],
   "source": [
    "dff.to_csv(\"try.csv\", index=False, header=None) "
   ]
  },
  {
   "cell_type": "code",
   "execution_count": null,
   "metadata": {},
   "outputs": [],
   "source": []
  }
 ],
 "metadata": {
  "kernelspec": {
   "display_name": "bayes",
   "language": "python",
   "name": "python3"
  },
  "language_info": {
   "codemirror_mode": {
    "name": "ipython",
    "version": 3
   },
   "file_extension": ".py",
   "mimetype": "text/x-python",
   "name": "python",
   "nbconvert_exporter": "python",
   "pygments_lexer": "ipython3",
   "version": "3.8.19"
  }
 },
 "nbformat": 4,
 "nbformat_minor": 2
}
