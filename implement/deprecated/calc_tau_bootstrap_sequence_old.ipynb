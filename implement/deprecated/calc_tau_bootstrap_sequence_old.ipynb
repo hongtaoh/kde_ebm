{
 "cells": [
  {
   "cell_type": "code",
   "execution_count": 71,
   "metadata": {},
   "outputs": [],
   "source": [
    "# Authors: Nicholas C. Firth <ncfirth87@gmail.com>\n",
    "# License: TBC\n",
    "from ebm import mixture_model\n",
    "from ebm import mcmc\n",
    "from ebm import plotting\n",
    "from ebm import datasets\n",
    "from ebm import distributions\n",
    "from matplotlib import pyplot as plt\n",
    "\n",
    "import warnings\n",
    "import scipy.optimize as opt\n",
    "from scipy.stats import kendalltau\n",
    "import matplotlib as mpl\n",
    "import json\n",
    "\n",
    "# Use a non-interactive backend\n",
    "mpl.use('Agg')  # 'Agg' is a backend for non-GUI environments\n",
    "\n",
    "# Suppress specific warnings\n",
    "warnings.filterwarnings('ignore', category=RuntimeWarning, module='scipy.optimize')\n",
    "warnings.filterwarnings('ignore', category=UserWarning, module='ebm.mcmc')"
   ]
  },
  {
   "cell_type": "code",
   "execution_count": 72,
   "metadata": {},
   "outputs": [],
   "source": [
    "ns = [50, 200, 500]\n",
    "rs = [0.1, 0.25, 0.5]\n",
    "dic = {}\n",
    "dic['synthetic'] = {}\n",
    "# dic['synthetic']['basic_method'] = {}\n",
    "# dic['synthetic']['bootstrap_sequence'] = {}\n",
    "dic['chen_data'] = {}\n",
    "# dic['chen_data']['basic_method'] = {}\n",
    "# dic['chen_data']['bootstrap_sequence'] = {}"
   ]
  },
  {
   "cell_type": "code",
   "execution_count": 73,
   "metadata": {},
   "outputs": [],
   "source": [
    "def obtain_ml_order_bootstrap_sequence(n, r, dic):\n",
    "    comb_str = f\"{int(n*r)}|{n}\"\n",
    "    data_dir = f\"synthetic/{comb_str}_reformatted.csv\" \n",
    "    X, y, bmname, cname = datasets.load_synthetic(data_dir)\n",
    "    mixture_models = []\n",
    "    for i in range(X.shape[1]):\n",
    "        h_model = distributions.Gaussian()\n",
    "        d_model = distributions.Gaussian()\n",
    "        gmm = mixture_model.MixtureModel(cn_comp=h_model,\n",
    "                                            ad_comp=d_model)\n",
    "        gmm.fit(X[:, i], y)\n",
    "        mixture_models.append(gmm)\n",
    "    plt.close()\n",
    "    samples = mcmc.mcmc(X, mixture_models, n_iter=2000,\n",
    "                        greedy_n_iter=10, greedy_n_init=2)\n",
    "    samples.sort(reverse=True)\n",
    "    ml_order = samples[0].ordering\n",
    "    tau, p_value = kendalltau(ml_order, range(0, len(ml_order)))\n",
    "    dic[comb_str] = tau"
   ]
  },
  {
   "cell_type": "code",
   "execution_count": 74,
   "metadata": {},
   "outputs": [],
   "source": [
    "def obtain_ml_order_bootstrap_sequence_chen_data(n, dic):\n",
    "    comb_str = f\"{n}\"\n",
    "    data_dir = f\"chen_data/{comb_str}_reformatted.csv\"  \n",
    "    X, y, bmname, cname = datasets.load_synthetic(data_dir)\n",
    "    mixture_models = []\n",
    "    for i in range(X.shape[1]):\n",
    "        h_model = distributions.Gaussian()\n",
    "        d_model = distributions.Gaussian()\n",
    "        gmm = mixture_model.MixtureModel(cn_comp=h_model,\n",
    "                                            ad_comp=d_model)\n",
    "        gmm.fit(X[:, i], y)\n",
    "        mixture_models.append(gmm)\n",
    "    plt.close()\n",
    "    samples = mcmc.mcmc(X, mixture_models, n_iter=2000,\n",
    "                        greedy_n_iter=10, greedy_n_init=2)\n",
    "    samples.sort(reverse=True)\n",
    "    ml_order = samples[0].ordering\n",
    "    tau, p_value = kendalltau(ml_order, range(0, len(ml_order)))\n",
    "    dic[comb_str] = tau"
   ]
  },
  {
   "cell_type": "code",
   "execution_count": 75,
   "metadata": {},
   "outputs": [],
   "source": [
    "for n in ns:\n",
    "    for r in rs:\n",
    "        obtain_ml_order_bootstrap_sequence(n, r, dic['synthetic'])"
   ]
  },
  {
   "cell_type": "code",
   "execution_count": 76,
   "metadata": {},
   "outputs": [],
   "source": [
    "for n in [144, 500]:\n",
    "    obtain_ml_order_bootstrap_sequence_chen_data(n, dic['chen_data'])"
   ]
  },
  {
   "cell_type": "code",
   "execution_count": 77,
   "metadata": {},
   "outputs": [],
   "source": [
    "tau_json = 'tau_bootstrap_sequence.json'\n",
    "with open(tau_json, \"w\") as fp:\n",
    "    json.dump(dic, fp, indent = 4)"
   ]
  }
 ],
 "metadata": {
  "kernelspec": {
   "display_name": "bayes",
   "language": "python",
   "name": "python3"
  },
  "language_info": {
   "codemirror_mode": {
    "name": "ipython",
    "version": 3
   },
   "file_extension": ".py",
   "mimetype": "text/x-python",
   "name": "python",
   "nbconvert_exporter": "python",
   "pygments_lexer": "ipython3",
   "version": "3.8.19"
  }
 },
 "nbformat": 4,
 "nbformat_minor": 2
}
